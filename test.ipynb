{
 "cells": [
  {
   "cell_type": "code",
   "execution_count": 2,
   "metadata": {},
   "outputs": [],
   "source": [
    "import drawSvg as draw\n",
    "from lens import Lens"
   ]
  },
  {
   "cell_type": "code",
   "execution_count": 32,
   "metadata": {},
   "outputs": [
    {
     "data": {
      "text/html": [
       "<img src=\"data:image/svg+xml;base64,PD94bWwgdmVyc2lvbj0iMS4wIiBlbmNvZGluZz0iVVRGLTgiPz4KPHN2ZyB4bWxucz0iaHR0cDovL3d3dy53My5vcmcvMjAwMC9zdmciIHhtbG5zOnhsaW5rPSJodHRwOi8vd3d3LnczLm9yZy8xOTk5L3hsaW5rIgogICAgIHdpZHRoPSI0MDAiIGhlaWdodD0iNDAwIiB2aWV3Qm94PSItNTAgLTUwIDEwMCAxMDAiPgo8ZGVmcz4KPC9kZWZzPgo8cGF0aCBkPSJNLTUuMTc0MjQzMDUwNDQxNjAzNSwtMjAuMCBBNTAsNTAsMCwwLDEsLTUuMTc0MjQzMDUwNDQxNjAzNSwyMC4wIEwtMS43MTU4Mzg1MjU5OTUxOTU2LDIwLjAgQTc1LDc1LDAsMCwwLC0xLjcxNTgzODUyNTk5NTE5NTYsLTIwLjAgWiIgZmlsbD0id2hpdGUiIC8+CjxjaXJjbGUgY3g9IjAiIGN5PSIwIiByPSIwLjUiIGZpbGw9Im5vbmUiIHN0cm9rZT0icmVkIiBzdHJva2Utd2lkdGg9IjAuMjUiIC8+CjxjaXJjbGUgY3g9Ii0xIiBjeT0iMCIgcj0iMC41IiBmaWxsPSJub25lIiBzdHJva2U9ImdyZWVuIiBzdHJva2Utd2lkdGg9IjAuMjUiIC8+CjxjaXJjbGUgY3g9IjEiIGN5PSIwIiByPSIwLjUiIGZpbGw9Im5vbmUiIHN0cm9rZT0iYmx1ZSIgc3Ryb2tlLXdpZHRoPSIwLjI1IiAvPgo8L3N2Zz4=\">"
      ],
      "text/plain": [
       "<drawSvg.drawing.Drawing at 0x7ff01fe38d60>"
      ]
     },
     "execution_count": 32,
     "metadata": {},
     "output_type": "execute_result"
    }
   ],
   "source": [
    "l1 = Lens(-50, -75, 2, 40)\n",
    "p = l1.draw()\n",
    "p.args['fill'] = 'white'\n",
    "d = draw.Drawing(100, 100, origin=(-50, -50), displayInline=False)\n",
    "d.append(p)\n",
    "d.append(draw.Circle(0, 0, 0.5, fill='none', stroke='red', stroke_width=0.25))\n",
    "d.append(draw.Circle(-1, 0, 0.5, fill='none', stroke='green', stroke_width=0.25))\n",
    "d.append(draw.Circle(1, 0, 0.5, fill='none', stroke='blue', stroke_width=0.25))\n",
    "\n",
    "d.setPixelScale(4)\n",
    "d"
   ]
  },
  {
   "cell_type": "code",
   "execution_count": null,
   "metadata": {},
   "outputs": [],
   "source": []
  }
 ],
 "metadata": {
  "interpreter": {
   "hash": "767d51c1340bd893661ea55ea3124f6de3c7a262a8b4abca0554b478b1e2ff90"
  },
  "kernelspec": {
   "display_name": "Python 3.8.10 64-bit",
   "language": "python",
   "name": "python3"
  },
  "language_info": {
   "codemirror_mode": {
    "name": "ipython",
    "version": 3
   },
   "file_extension": ".py",
   "mimetype": "text/x-python",
   "name": "python",
   "nbconvert_exporter": "python",
   "pygments_lexer": "ipython3",
   "version": "3.8.10"
  },
  "orig_nbformat": 4
 },
 "nbformat": 4,
 "nbformat_minor": 2
}
