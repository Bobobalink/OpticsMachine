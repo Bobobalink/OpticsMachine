{
 "cells": [
  {
   "cell_type": "code",
   "execution_count": 1,
   "metadata": {},
   "outputs": [],
   "source": [
    "import drawSvg as draw\n",
    "from lens import Lens\n",
    "from sys import float_info"
   ]
  },
  {
   "cell_type": "code",
   "execution_count": 4,
   "metadata": {},
   "outputs": [
    {
     "data": {
      "text/html": [
       "<img src=\"data:image/svg+xml;base64,PD94bWwgdmVyc2lvbj0iMS4wIiBlbmNvZGluZz0iVVRGLTgiPz4KPHN2ZyB4bWxucz0iaHR0cDovL3d3dy53My5vcmcvMjAwMC9zdmciIHhtbG5zOnhsaW5rPSJodHRwOi8vd3d3LnczLm9yZy8xOTk5L3hsaW5rIgogICAgIHdpZHRoPSI0MDAiIGhlaWdodD0iNDAwIiB2aWV3Qm94PSItNTAgLTUwIDEwMCAxMDAiPgo8ZGVmcz4KPC9kZWZzPgo8cGF0aCBkPSJNLTIuNSwtMTIuNyBMLTIuNSwxMi43IEwtMC43NzY3MDAyODA1NDMwNjc4LDEyLjcgQTI2LjI1LDI2LjI1LDAsMCwwLC0wLjc3NjcwMDI4MDU0MzA2NzgsLTEyLjcgWiIgZmlsbD0id2hpdGUiIC8+CjxjaXJjbGUgY3g9IjAiIGN5PSIwIiByPSIwLjUiIGZpbGw9Im5vbmUiIHN0cm9rZT0icmVkIiBzdHJva2Utd2lkdGg9IjAuMjUiIC8+CjxjaXJjbGUgY3g9Ii0yLjUiIGN5PSIwIiByPSIwLjUiIGZpbGw9Im5vbmUiIHN0cm9rZT0iZ3JlZW4iIHN0cm9rZS13aWR0aD0iMC4yNSIgLz4KPGNpcmNsZSBjeD0iMi41IiBjeT0iMCIgcj0iMC41IiBmaWxsPSJub25lIiBzdHJva2U9ImJsdWUiIHN0cm9rZS13aWR0aD0iMC4yNSIgLz4KPC9zdmc+\">"
      ],
      "text/plain": [
       "<drawSvg.drawing.Drawing at 0x7f73b6db4040>"
      ]
     },
     "execution_count": 4,
     "metadata": {},
     "output_type": "execute_result"
    }
   ],
   "source": [
    "l1 = Lens(s1Radius=26.25, s2Radius=float_info.max, thickness=5, diameter=25.4, position=0, n=1.5)\n",
    "p = l1.draw()\n",
    "p.args['fill'] = 'white'\n",
    "d = draw.Drawing(100, 100, origin=(-50, -50), displayInline=False)\n",
    "d.append(p)\n",
    "d.append(draw.Circle(0, 0, 0.5, fill='none', stroke='red', stroke_width=0.25))\n",
    "d.append(draw.Circle(-2.5, 0, 0.5, fill='none', stroke='green', stroke_width=0.25))\n",
    "d.append(draw.Circle(2.5, 0, 0.5, fill='none', stroke='blue', stroke_width=0.25))\n",
    "\n",
    "d.saveSvg('lenstest.svg')\n",
    "\n",
    "d.setPixelScale(4)\n",
    "d"
   ]
  },
  {
   "cell_type": "code",
   "execution_count": null,
   "metadata": {},
   "outputs": [],
   "source": []
  }
 ],
 "metadata": {
  "interpreter": {
   "hash": "767d51c1340bd893661ea55ea3124f6de3c7a262a8b4abca0554b478b1e2ff90"
  },
  "kernelspec": {
   "display_name": "Python 3.8.10 64-bit",
   "language": "python",
   "name": "python3"
  },
  "language_info": {
   "codemirror_mode": {
    "name": "ipython",
    "version": 3
   },
   "file_extension": ".py",
   "mimetype": "text/x-python",
   "name": "python",
   "nbconvert_exporter": "python",
   "pygments_lexer": "ipython3",
   "version": "3.8.10"
  },
  "orig_nbformat": 4
 },
 "nbformat": 4,
 "nbformat_minor": 2
}
