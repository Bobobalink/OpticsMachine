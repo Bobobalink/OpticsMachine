{
 "cells": [
  {
   "cell_type": "code",
   "execution_count": 1,
   "metadata": {},
   "outputs": [],
   "source": [
    "import drawSvg as draw\n",
    "from lens import Lens\n",
    "from rays import RaySegment\n",
    "from sys import float_info"
   ]
  },
  {
   "cell_type": "code",
   "execution_count": 10,
   "metadata": {},
   "outputs": [
    {
     "data": {
      "image/svg+xml": "<?xml version=\"1.0\" encoding=\"UTF-8\"?>\n<svg xmlns=\"http://www.w3.org/2000/svg\" xmlns:xlink=\"http://www.w3.org/1999/xlink\"\n     width=\"800\" height=\"200\" viewBox=\"-25 -25 200 50\">\n<defs>\n</defs>\n<path d=\"M0,-5 L0,5\" stroke=\"black\" stroke-width=\"0.5\" />\n<path d=\"M0,0 L150,0\" stroke=\"black\" stroke-width=\"0.5\" />\n<path d=\"M150,-5 L150,5\" stroke=\"black\" stroke-width=\"0.5\" />\n<path d=\"M28.276700280543068,-12.7 A26.25,26.25,0,0,0,28.276700280543068,12.7 L30,12.7 L30,-12.7 Z\" fill=\"gray\" />\n<path d=\"M0,-10 L25,-10.0 L30,-9.361644516902224 L200,23.41668212265506\" stroke=\"red\" fill=\"none\" stroke-width=\"0.25\" />\n<path d=\"M0,-5 L25,-5.0 L30,-4.682112407077707 L200,11.557492834340298\" stroke=\"pink\" fill=\"none\" stroke-width=\"0.25\" />\n<path d=\"M0,10 L25,10.0 L30,9.361644516902224 L200,-23.41668212265506\" stroke=\"cyan\" fill=\"none\" stroke-width=\"0.25\" />\n<circle cx=\"77.5\" cy=\"0\" r=\"0.5\" fill=\"none\" stroke=\"green\" stroke-width=\"0.5\" />\n</svg>",
      "text/plain": [
       "<drawSvg.drawing.Drawing at 0x7f8057e36f70>"
      ]
     },
     "execution_count": 10,
     "metadata": {},
     "output_type": "execute_result"
    }
   ],
   "source": [
    "l1 = Lens(s1Radius=26.25, s2Radius=float_info.max, thickness=5, diameter=25.4, position=25, n=1.5)\n",
    "lp = l1.draw()\n",
    "\n",
    "cr = RaySegment(0, 200, 10, 0)\n",
    "cri = l1.snuFTraceS1(cr)\n",
    "cro = l1.snuFTraceS2(cri)\n",
    "\n",
    "cr2 = RaySegment(0, 200, 5, 0)\n",
    "cri2 = l1.snuFTraceS1(cr2)\n",
    "cro2 = l1.snuFTraceS2(cri2)\n",
    "\n",
    "cr3 = RaySegment(0, 200, -10, 0)\n",
    "cri3 = l1.snuFTraceS1(cr3)\n",
    "cro3 = l1.snuFTraceS2(cri3)\n",
    "\n",
    "crp = cr.draw()\n",
    "cri.appendDraw(crp)\n",
    "cro.appendDraw(crp)\n",
    "crp.args['stroke'] = 'red'\n",
    "crp.args['fill'] = 'none'\n",
    "crp.args['stroke-width'] = 0.25\n",
    "\n",
    "crp2 = cr2.draw()\n",
    "cri2.appendDraw(crp2)\n",
    "cro2.appendDraw(crp2)\n",
    "crp2.args['stroke'] = 'pink'\n",
    "crp2.args['fill'] = 'none'\n",
    "crp2.args['stroke-width'] = 0.25\n",
    "\n",
    "crp3 = cr3.draw()\n",
    "cri3.appendDraw(crp3)\n",
    "cro3.appendDraw(crp3)\n",
    "crp3.args['stroke'] = 'cyan'\n",
    "crp3.args['fill'] = 'none'\n",
    "crp3.args['stroke-width'] = 0.25\n",
    "\n",
    "lp.args['fill'] = 'gray'\n",
    "d = draw.Drawing(200, 50, origin=(-25, -25), displayInline=True)\n",
    "d.append(draw.Line(0, 5, 0, -5, stroke='black', stroke_width=0.5))\n",
    "d.append(draw.Line(0, 0, 150, 0, stroke='black', stroke_width=0.5))\n",
    "d.append(draw.Line(150, 5, 150, -5, stroke='black', stroke_width=0.5))\n",
    "\n",
    "d.append(lp)\n",
    "d.append(crp)\n",
    "d.append(crp2)\n",
    "d.append(crp3)\n",
    "\n",
    "d.append(draw.Circle(25 + 5 + 47.5, 0, 0.5, fill='none', stroke='green', stroke_width=0.5))\n",
    "\n",
    "d.saveSvg('lenstest.svg')\n",
    "\n",
    "d.setPixelScale(4)\n",
    "d"
   ]
  },
  {
   "cell_type": "code",
   "execution_count": null,
   "metadata": {},
   "outputs": [],
   "source": []
  }
 ],
 "metadata": {
  "interpreter": {
   "hash": "767d51c1340bd893661ea55ea3124f6de3c7a262a8b4abca0554b478b1e2ff90"
  },
  "kernelspec": {
   "display_name": "Python 3.8.10 64-bit",
   "language": "python",
   "name": "python3"
  },
  "language_info": {
   "codemirror_mode": {
    "name": "ipython",
    "version": 3
   },
   "file_extension": ".py",
   "mimetype": "text/x-python",
   "name": "python",
   "nbconvert_exporter": "python",
   "pygments_lexer": "ipython3",
   "version": "3.8.10"
  },
  "orig_nbformat": 4
 },
 "nbformat": 4,
 "nbformat_minor": 2
}
