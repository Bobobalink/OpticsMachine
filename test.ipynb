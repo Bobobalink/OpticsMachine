{
 "cells": [
  {
   "cell_type": "code",
   "execution_count": 1,
   "metadata": {},
   "outputs": [],
   "source": [
    "import drawSvg as draw\n",
    "from lens import Lens\n",
    "from rays import Ray\n",
    "from sys import float_info"
   ]
  },
  {
   "cell_type": "code",
   "execution_count": 2,
   "metadata": {},
   "outputs": [
    {
     "data": {
      "image/svg+xml": "<?xml version=\"1.0\" encoding=\"UTF-8\"?>\n<svg xmlns=\"http://www.w3.org/2000/svg\" xmlns:xlink=\"http://www.w3.org/1999/xlink\"\n     width=\"800\" height=\"200\" viewBox=\"-25 -25 200 50\">\n<defs>\n</defs>\n<path d=\"M0,-5 L0,5\" stroke=\"black\" stroke-width=\"0.5\" />\n<path d=\"M0,0 L150,0\" stroke=\"black\" stroke-width=\"0.5\" />\n<path d=\"M150,-5 L150,5\" stroke=\"black\" stroke-width=\"0.5\" />\n<path d=\"M28.276700280543068,-12.7 A26.25,26.25,0,0,0,28.276700280543068,12.7 L30,12.7 L30,-12.7 Z\" fill=\"gray\" />\n<path d=\"M0,-10 L25,-10.0 L30,-9.347177010904092 L150,14.597519160965154\" stroke=\"red\" fill=\"none\" stroke-width=\"0.25\" />\n<path d=\"M0,10 L25,10.0 L30,9.347177010904092 L150,-14.597519160965154\" stroke=\"cyan\" fill=\"none\" stroke-width=\"0.25\" />\n<path d=\"M0,-5 L25,-5.0 L30,-4.674967866735333 L150,7.180522900731447\" stroke=\"pink\" fill=\"none\" stroke-width=\"0.25\" />\n<circle cx=\"77.5\" cy=\"0\" r=\"0.5\" fill=\"none\" stroke=\"green\" stroke-width=\"0.5\" />\n</svg>",
      "text/plain": [
       "<drawSvg.drawing.Drawing at 0x7ff3d3bba4f0>"
      ]
     },
     "execution_count": 2,
     "metadata": {},
     "output_type": "execute_result"
    }
   ],
   "source": [
    "l1 = Lens(s1Radius=26.25, s2Radius=float_info.max, thickness=5, diameter=25.4, position=25, n=1.517)\n",
    "lp = l1.draw()\n",
    "\n",
    "ray1 = Ray(0, 150, 10)\n",
    "l1.snuForward(ray1)\n",
    "\n",
    "ray2 = Ray(0, 150, -10)\n",
    "l1.snuForward(ray2)\n",
    "\n",
    "ray3 = Ray(0, 150, 5)\n",
    "l1.snuForward(ray3)\n",
    "\n",
    "lp.args['fill'] = 'gray'\n",
    "d = draw.Drawing(200, 50, origin=(-25, -25), displayInline=True)\n",
    "d.append(draw.Line(0, 5, 0, -5, stroke='black', stroke_width=0.5))\n",
    "d.append(draw.Line(0, 0, 150, 0, stroke='black', stroke_width=0.5))\n",
    "d.append(draw.Line(150, 5, 150, -5, stroke='black', stroke_width=0.5))\n",
    "\n",
    "d.append(lp)\n",
    "d.append(ray1.draw(stroke='red', fill='none', stroke_width=0.25))\n",
    "d.append(ray2.draw(stroke='cyan', fill='none', stroke_width=0.25))\n",
    "d.append(ray3.draw(stroke='pink', fill='none', stroke_width=0.25))\n",
    "\n",
    "d.append(draw.Circle(25 + 5 + 47.5, 0, 0.5, fill='none', stroke='green', stroke_width=0.5))\n",
    "\n",
    "d.saveSvg('lenstest.svg')\n",
    "\n",
    "d.setPixelScale(4)\n",
    "d"
   ]
  },
  {
   "cell_type": "code",
   "execution_count": null,
   "metadata": {},
   "outputs": [],
   "source": []
  }
 ],
 "metadata": {
  "interpreter": {
   "hash": "767d51c1340bd893661ea55ea3124f6de3c7a262a8b4abca0554b478b1e2ff90"
  },
  "kernelspec": {
   "display_name": "Python 3.8.10 64-bit",
   "language": "python",
   "name": "python3"
  },
  "language_info": {
   "codemirror_mode": {
    "name": "ipython",
    "version": 3
   },
   "file_extension": ".py",
   "mimetype": "text/x-python",
   "name": "python",
   "nbconvert_exporter": "python",
   "pygments_lexer": "ipython3",
   "version": "3.8.10"
  },
  "orig_nbformat": 4
 },
 "nbformat": 4,
 "nbformat_minor": 2
}
